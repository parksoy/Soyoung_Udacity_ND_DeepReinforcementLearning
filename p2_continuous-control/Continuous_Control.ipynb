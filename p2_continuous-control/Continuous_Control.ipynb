{
 "cells": [
  {
   "cell_type": "markdown",
   "metadata": {},
   "source": [
    "# Continuous Control\n",
    "\n",
    "---\n",
    "\n",
    "You are welcome to use this coding environment to train your agent for the project.  Follow the instructions below to get started!\n",
    "\n",
    "### 1. Start the Environment\n",
    "\n",
    "Run the next code cell to install a few packages.  This line will take a few minutes to run!"
   ]
  },
  {
   "cell_type": "code",
   "execution_count": 1,
   "metadata": {},
   "outputs": [
    {
     "name": "stdout",
     "output_type": "stream",
     "text": [
      "\u001b[31mtensorflow 1.7.1 has requirement numpy>=1.13.3, but you'll have numpy 1.12.1 which is incompatible.\u001b[0m\r\n",
      "\u001b[31mipython 6.5.0 has requirement prompt-toolkit<2.0.0,>=1.0.15, but you'll have prompt-toolkit 2.0.9 which is incompatible.\u001b[0m\r\n"
     ]
    }
   ],
   "source": [
    "!pip -q install ./python"
   ]
  },
  {
   "cell_type": "markdown",
   "metadata": {},
   "source": [
    "The environments corresponding to both versions of the environment are already saved in the Workspace and can be accessed at the file paths provided below.  \n",
    "\n",
    "Please select one of the two options below for loading the environment."
   ]
  },
  {
   "cell_type": "code",
   "execution_count": 2,
   "metadata": {},
   "outputs": [
    {
     "name": "stdout",
     "output_type": "stream",
     "text": [
      "Once deleted, variables cannot be recovered. Proceed (y/[n])? y\n"
     ]
    }
   ],
   "source": [
    "%reset"
   ]
  },
  {
   "cell_type": "code",
   "execution_count": 2,
   "metadata": {},
   "outputs": [],
   "source": [
    "%load_ext autoreload\n",
    "%autoreload 2"
   ]
  },
  {
   "cell_type": "code",
   "execution_count": 3,
   "metadata": {
    "scrolled": true
   },
   "outputs": [
    {
     "name": "stdout",
     "output_type": "stream",
     "text": [
      "device= cuda:0\n",
      "cuda:0\n"
     ]
    }
   ],
   "source": [
    "import torch\n",
    "from unityagents import UnityEnvironment\n",
    "import numpy as np\n",
    "from agent_reacher import Agent\n",
    "from nnmodels_reacher import Actor, Critic\n",
    "from config_settings import Args\n",
    "from replay_buffer import ReplayBuffer\n",
    "from plotter_reacher import plot_scoreOverEpisodes\n",
    "from collections import deque\n",
    "import matplotlib.pyplot as plt\n",
    "%matplotlib inline"
   ]
  },
  {
   "cell_type": "code",
   "execution_count": 4,
   "metadata": {},
   "outputs": [
    {
     "name": "stderr",
     "output_type": "stream",
     "text": [
      "INFO:unityagents:\n",
      "'Academy' started successfully!\n",
      "Unity Academy name: Academy\n",
      "        Number of Brains: 1\n",
      "        Number of External Brains : 1\n",
      "        Lesson number : 0\n",
      "        Reset Parameters :\n",
      "\t\tgoal_speed -> 1.0\n",
      "\t\tgoal_size -> 5.0\n",
      "Unity brain name: ReacherBrain\n",
      "        Number of Visual Observations (per agent): 0\n",
      "        Vector Observation space type: continuous\n",
      "        Vector Observation space size (per agent): 33\n",
      "        Number of stacked Vector Observation: 1\n",
      "        Vector Action space type: continuous\n",
      "        Vector Action space size (per agent): 4\n",
      "        Vector Action descriptions: , , , \n"
     ]
    }
   ],
   "source": [
    "# select this option to load version 1 (with a single agent) of the environment\n",
    "#env = UnityEnvironment(file_name='/data/Reacher_One_Linux_NoVis/Reacher_One_Linux_NoVis.x86_64')\n",
    "\n",
    "# select this option to load version 2 (with 20 agents) of the environment\n",
    "env = UnityEnvironment(file_name='/data/Reacher_Linux_NoVis/Reacher.x86_64', no_graphics=True)"
   ]
  },
  {
   "cell_type": "markdown",
   "metadata": {},
   "source": [
    "Environments contain **_brains_** which are responsible for deciding the actions of their associated agents. Here we check for the first brain available, and set it as the default brain we will be controlling from Python."
   ]
  },
  {
   "cell_type": "code",
   "execution_count": 5,
   "metadata": {},
   "outputs": [],
   "source": [
    "# get the default brain\n",
    "brain_name = env.brain_names[0]\n",
    "brain = env.brains[brain_name]"
   ]
  },
  {
   "cell_type": "markdown",
   "metadata": {},
   "source": [
    "### 2. Examine the State and Action Spaces\n",
    "\n",
    "Run the code cell below to print some information about the environment."
   ]
  },
  {
   "cell_type": "code",
   "execution_count": 6,
   "metadata": {},
   "outputs": [
    {
     "name": "stdout",
     "output_type": "stream",
     "text": [
      "Number of agents: 20\n",
      "Size of each action: 4\n",
      "There are 20 agents. Each observes a state with length: 33\n",
      "The state for the first agent looks like: [  0.00000000e+00  -4.00000000e+00   0.00000000e+00   1.00000000e+00\n",
      "  -0.00000000e+00  -0.00000000e+00  -4.37113883e-08   0.00000000e+00\n",
      "   0.00000000e+00   0.00000000e+00   0.00000000e+00   0.00000000e+00\n",
      "   0.00000000e+00   0.00000000e+00  -1.00000000e+01   0.00000000e+00\n",
      "   1.00000000e+00  -0.00000000e+00  -0.00000000e+00  -4.37113883e-08\n",
      "   0.00000000e+00   0.00000000e+00   0.00000000e+00   0.00000000e+00\n",
      "   0.00000000e+00   0.00000000e+00   5.75471878e+00  -1.00000000e+00\n",
      "   5.55726624e+00   0.00000000e+00   1.00000000e+00   0.00000000e+00\n",
      "  -1.68164849e-01]\n"
     ]
    }
   ],
   "source": [
    "# reset the environment\n",
    "env_info = env.reset(train_mode=True)[brain_name]\n",
    "\n",
    "# number of agents\n",
    "num_agents = len(env_info.agents)\n",
    "print('Number of agents:', num_agents)\n",
    "\n",
    "# size of each action\n",
    "action_size = brain.vector_action_space_size\n",
    "print('Size of each action:', action_size)\n",
    "\n",
    "# examine the state space \n",
    "states = env_info.vector_observations\n",
    "state_size = states.shape[1]\n",
    "print('There are {} agents. Each observes a state with length: {}'.format(states.shape[0], state_size))\n",
    "print('The state for the first agent looks like:', states[0])"
   ]
  },
  {
   "cell_type": "markdown",
   "metadata": {},
   "source": [
    "### 3. Take Random Actions in the Environment\n",
    "\n",
    "In the next code cell, you will learn how to use the Python API to control the agent and receive feedback from the environment.\n",
    "\n",
    "Note that **in this coding environment, you will not be able to watch the agents while they are training**, and you should set `train_mode=True` to restart the environment."
   ]
  },
  {
   "cell_type": "code",
   "execution_count": 10,
   "metadata": {},
   "outputs": [
    {
     "name": "stdout",
     "output_type": "stream",
     "text": [
      "Total score (averaged over agents) this episode: 0.11299999747425318\n"
     ]
    }
   ],
   "source": [
    "env_info = env.reset(train_mode=False)[brain_name]      # reset the environment    \n",
    "states = env_info.vector_observations                  # get the current state (for each agent)\n",
    "scores = np.zeros(num_agents)                          # initialize the score (for each agent)\n",
    "while True:\n",
    "    actions = np.random.randn(num_agents, action_size) # select an action (for each agent)\n",
    "    actions = np.clip(actions, -1, 1)                  # all actions between -1 and 1\n",
    "    env_info = env.step(actions)[brain_name]           # send all actions to tne environment\n",
    "    next_states = env_info.vector_observations         # get next state (for each agent)\n",
    "    rewards = env_info.rewards                         # get reward (for each agent)\n",
    "    dones = env_info.local_done                        # see if episode finished\n",
    "    scores += env_info.rewards                         # update the score (for each agent): list, len 20\n",
    "    states = next_states                               # roll over states to next time step\n",
    "    if np.any(dones):                                  # exit loop if episode finished\n",
    "        break\n",
    "print('Total score (averaged over agents) this episode: {}'.format(np.mean(scores)))"
   ]
  },
  {
   "cell_type": "markdown",
   "metadata": {},
   "source": [
    "When finished, you can close the environment."
   ]
  },
  {
   "cell_type": "markdown",
   "metadata": {},
   "source": [
    "### 4. It's Your Turn!\n",
    "\n",
    "Now it's your turn to train your own agent to solve the environment!  A few **important notes**:\n",
    "- When training the environment, set `train_mode=True`, so that the line for resetting the environment looks like the following:\n",
    "```python\n",
    "env_info = env.reset(train_mode=True)[brain_name]\n",
    "```\n",
    "- To structure your work, you're welcome to work directly in this Jupyter notebook, or you might like to start over with a new file!  You can see the list of files in the workspace by clicking on **_Jupyter_** in the top left corner of the notebook.\n",
    "- In this coding environment, you will not be able to watch the agents while they are training.  However, **_after training the agents_**, you can download the saved model weights to watch the agents on your own machine! "
   ]
  },
  {
   "cell_type": "markdown",
   "metadata": {},
   "source": [
    "### 4-1 Train the Agent with DDPG"
   ]
  },
  {
   "cell_type": "code",
   "execution_count": 8,
   "metadata": {},
   "outputs": [],
   "source": [
    "agent = Agent(state_size=state_size, action_size=action_size, random_seed=2) #state_size 33, action_size 4\n",
    "args=Args()"
   ]
  },
  {
   "cell_type": "code",
   "execution_count": 9,
   "metadata": {},
   "outputs": [
    {
     "name": "stdout",
     "output_type": "stream",
     "text": [
      "Episode 1\tAverage Score: 0.45\n",
      "Episode 2\tAverage Score: 0.56\n",
      "Episode 3\tAverage Score: 0.39\n",
      "Episode 4\tAverage Score: 0.46\n",
      "Episode 5\tAverage Score: 0.51\n",
      "Episode 6\tAverage Score: 0.63\n",
      "Episode 7\tAverage Score: 0.72\n",
      "Episode 8\tAverage Score: 0.81\n",
      "Episode 9\tAverage Score: 0.92\n",
      "Episode 10\tAverage Score: 1.05\n",
      "Episode 10\tAverage Score: 1.05\n",
      "Episode 11\tAverage Score: 1.29\n",
      "Episode 12\tAverage Score: 1.55\n",
      "Episode 13\tAverage Score: 1.86\n",
      "Episode 14\tAverage Score: 2.20\n",
      "Episode 15\tAverage Score: 2.53\n",
      "Episode 16\tAverage Score: 2.84\n",
      "Episode 17\tAverage Score: 3.18\n",
      "Episode 18\tAverage Score: 3.45\n",
      "Episode 19\tAverage Score: 3.70\n",
      "Episode 20\tAverage Score: 3.97\n",
      "Episode 20\tAverage Score: 3.97\n",
      "Episode 21\tAverage Score: 4.22\n",
      "Episode 22\tAverage Score: 4.35\n",
      "Episode 23\tAverage Score: 4.62\n",
      "Episode 24\tAverage Score: 4.78\n",
      "Episode 25\tAverage Score: 4.89\n",
      "Episode 26\tAverage Score: 5.03\n",
      "Episode 27\tAverage Score: 5.25\n",
      "Episode 28\tAverage Score: 5.57\n",
      "Episode 29\tAverage Score: 5.83\n",
      "Episode 30\tAverage Score: 6.07\n",
      "Episode 30\tAverage Score: 6.07\n",
      "Episode 31\tAverage Score: 6.32\n",
      "Episode 32\tAverage Score: 6.79\n",
      "Episode 33\tAverage Score: 7.12\n",
      "Episode 34\tAverage Score: 7.63\n",
      "Episode 35\tAverage Score: 8.07\n",
      "Episode 36\tAverage Score: 8.43\n",
      "Episode 37\tAverage Score: 8.75\n",
      "Episode 38\tAverage Score: 9.08\n",
      "Episode 39\tAverage Score: 9.49\n",
      "Episode 40\tAverage Score: 9.92\n",
      "Episode 40\tAverage Score: 9.92\n",
      "Episode 41\tAverage Score: 10.22\n",
      "Episode 42\tAverage Score: 10.39\n",
      "Episode 43\tAverage Score: 10.86\n",
      "Episode 44\tAverage Score: 11.05\n",
      "Episode 45\tAverage Score: 11.40\n",
      "Episode 46\tAverage Score: 11.61\n",
      "Episode 47\tAverage Score: 11.74\n",
      "Episode 48\tAverage Score: 12.12\n",
      "Episode 49\tAverage Score: 12.23\n",
      "Episode 50\tAverage Score: 12.36\n",
      "Episode 50\tAverage Score: 12.36\n",
      "Episode 51\tAverage Score: 12.80\n",
      "Episode 52\tAverage Score: 13.46\n",
      "Episode 53\tAverage Score: 13.63\n",
      "Episode 54\tAverage Score: 14.04\n",
      "Episode 55\tAverage Score: 14.25\n",
      "Episode 56\tAverage Score: 14.43\n",
      "Episode 57\tAverage Score: 14.98\n",
      "Episode 58\tAverage Score: 15.06\n",
      "Episode 59\tAverage Score: 15.40\n",
      "Episode 60\tAverage Score: 15.50\n",
      "Episode 60\tAverage Score: 15.50\n",
      "Episode 61\tAverage Score: 15.90\n",
      "Episode 62\tAverage Score: 15.89\n",
      "Episode 63\tAverage Score: 15.93\n",
      "Episode 64\tAverage Score: 15.95\n",
      "Episode 65\tAverage Score: 16.27\n",
      "Episode 66\tAverage Score: 16.83\n",
      "Episode 67\tAverage Score: 16.97\n",
      "Episode 68\tAverage Score: 17.47\n",
      "Episode 69\tAverage Score: 17.92\n",
      "Episode 70\tAverage Score: 18.51\n",
      "Episode 70\tAverage Score: 18.51\n",
      "Episode 71\tAverage Score: 18.66\n",
      "Episode 72\tAverage Score: 19.09\n",
      "Episode 73\tAverage Score: 19.68\n",
      "Episode 74\tAverage Score: 19.89\n",
      "Episode 75\tAverage Score: 20.16\n",
      "Episode 76\tAverage Score: 20.56\n",
      "Episode 77\tAverage Score: 21.23\n",
      "Episode 78\tAverage Score: 21.54\n",
      "Episode 79\tAverage Score: 21.87\n",
      "Episode 80\tAverage Score: 22.40\n",
      "Episode 80\tAverage Score: 22.40\n",
      "Episode 81\tAverage Score: 22.90\n",
      "Episode 82\tAverage Score: 23.23\n",
      "Episode 83\tAverage Score: 23.59\n",
      "Episode 84\tAverage Score: 24.38\n",
      "Episode 85\tAverage Score: 25.34\n",
      "Episode 86\tAverage Score: 25.90\n",
      "Episode 87\tAverage Score: 26.27\n",
      "Episode 88\tAverage Score: 26.83\n",
      "Episode 89\tAverage Score: 27.40\n",
      "Episode 90\tAverage Score: 27.63\n",
      "Episode 90\tAverage Score: 27.63\n",
      "Episode 91\tAverage Score: 27.91\n",
      "Episode 92\tAverage Score: 28.13\n",
      "Episode 93\tAverage Score: 28.48\n",
      "Episode 94\tAverage Score: 28.70\n",
      "Episode 95\tAverage Score: 28.50\n",
      "Episode 96\tAverage Score: 28.55\n",
      "Episode 97\tAverage Score: 28.59\n",
      "Episode 98\tAverage Score: 28.78\n",
      "Episode 99\tAverage Score: 28.89\n",
      "Episode 100\tAverage Score: 29.13\n",
      "Episode 100\tAverage Score: 29.13\n",
      "Episode 101\tAverage Score: 29.28\n",
      "Episode 102\tAverage Score: 29.69\n",
      "Episode 103\tAverage Score: 29.96\n",
      "Episode 104\tAverage Score: 30.12\n",
      "\n",
      "Environment solved in 104 episodes!\tAverage Score: 30.12\n",
      "\n",
      "Exiting Traing..Environment solvedbest average (above 30.0) in 104 episodes!\tAverage Score: 30.12\n",
      "Done!\n"
     ]
    }
   ],
   "source": [
    "def ddpg_train(n_episodes=args.num_episodes,\n",
    "          max_t=args.max_steps,\n",
    "          print_every=args.print_every):\n",
    "    \n",
    "    scores_aveofallagents_5episode_deque = deque(maxlen=print_every)\n",
    "    scores_allagent_allepisode_list = []\n",
    "    avescore_allagents_allepisodes_list=[]\n",
    "\n",
    "    best_avg=-9999\n",
    "    solved = False\n",
    "    \n",
    "    for i_episode in range(1, n_episodes+1):\n",
    "        #print(\"###### Episode #%d/%d########\" %(i_episode,n_episodes))\n",
    "        env_info = env.reset(train_mode=True)[brain_name]\n",
    "        states=env_info.vector_observations\n",
    "        agent.reset()\n",
    "        scores = np.zeros(num_agents)  \n",
    "        #score = 0 #for one agent\n",
    "        \n",
    "        for t in range(max_t):\n",
    "            actions = agent.act(states) #(20,33)\n",
    "            actions = np.clip(actions, -1, 1)\n",
    "            env_info = env.step([actions])[brain_name]\n",
    "            next_states = env_info.vector_observations\n",
    "            #next_states = torch.from_numpy(env_info.vector_observations[0]).float() #env_info.vector_observations\n",
    "            rewards = env_info.rewards\n",
    "            dones = env_info.local_done\n",
    "            agent.step(states, actions, rewards, next_states, dones, t) #\n",
    "            states = next_states\n",
    "           \n",
    "            #print(\"before scores=\",scores)\n",
    "            #print(\"rewards=\",rewards)\n",
    "            scores = scores + rewards\n",
    "            #print(\"after scores=\",scores)\n",
    "            #score=score + np.average(rewards) \n",
    "            \n",
    "            if np.any(dones): break\n",
    "        \n",
    "        avescore_allagents_oneepisode = np.mean(scores) #score # #np.mean(scores)\n",
    "        #print(\"avescore_allagents_oneepisode\",avescore_allagents_oneepisode)\n",
    "        scores_aveofallagents_5episode_deque.append(avescore_allagents_oneepisode)\n",
    "       \n",
    "        avescore_allagents_5episode = np.mean(scores_aveofallagents_5episode_deque)\n",
    "        scores_allagent_allepisode_list.append(avescore_allagents_5episode)\n",
    "        \n",
    "        avescore_allagents_allepisodes_list.append(avescore_allagents_5episode)\n",
    "        #print(\"scores_aveofallagents_5episode_deque=\",scores_aveofallagents_5episode_deque)\n",
    "        \n",
    "        print('\\rEpisode {}\\tAverage Score: {:.2f}'.format(i_episode, np.mean(scores_aveofallagents_5episode_deque), end=\"\")) #\n",
    "                \n",
    "        if i_episode % print_every == 0:\n",
    "            print('\\rEpisode {}\\tAverage Score: {:.2f}'.format(i_episode, np.mean(scores_aveofallagents_5episode_deque)))\n",
    "            torch.save(agent.actor_local.state_dict(), 'p2_print_every_checkpoint_actor.pth')\n",
    "            torch.save(agent.critic_local.state_dict(), 'p2_print_every_checkpoint_critic.pth')\n",
    "\n",
    "        if avescore_allagents_5episode >= 30.0:\n",
    "            if not solved:\n",
    "                print('\\nEnvironment solved in {:d} episodes!\\tAverage Score: {:.2f}'.format(i_episode, avescore_allagents_5episode))\n",
    "                if avescore_allagents_5episode >=30.0 and avescore_allagents_5episode > best_avg: \n",
    "                    solved = True\n",
    "                    best_avg = avescore_allagents_5episode\n",
    "                    print('\\nExiting Traing..Environment solvedbest average (above 30.0) in {:d} episodes!\\tAverage Score: {:.2f}'.format(i_episode, avescore_allagents_5episode)) \n",
    "                    torch.save(agent.actor_local.state_dict(), 'best_checkpoint_actor.pth')\n",
    "                    torch.save(agent.critic_local.state_dict(), 'best_checkpoint_critic.pth')\n",
    "                    break\n",
    "\n",
    "    print(\"Done!\")\n",
    "    return scores, avescore_allagents_allepisodes_list, scores_allagent_allepisode_list #scores,\n",
    "\n",
    "scores, avescore_allagents_allepisodes_list, avescore_allagents_5episode_list = ddpg_train() #scores \n",
    "#print(\"avescore_allagents_allepisodes_list=\",avescore_allagents_allepisodes_list)"
   ]
  },
  {
   "cell_type": "code",
   "execution_count": 13,
   "metadata": {},
   "outputs": [
    {
     "data": {
      "image/png": "[encoded data removed]",
      "text/plain": [
       "<matplotlib.figure.Figure at 0x7f146e2a8a58>"
      ]
     },
     "metadata": {
      "needs_background": "light"
     },
     "output_type": "display_data"
    },
    {
     "data": {
      "text/plain": [
       "<matplotlib.figure.Figure at 0x7f146e206080>"
      ]
     },
     "metadata": {},
     "output_type": "display_data"
    }
   ],
   "source": [
    "fig = plt.figure()\n",
    "ax = fig.add_subplot(111)\n",
    "plt.plot(np.arange(1, len(avescore_allagents_allepisodes_list)+1), avescore_allagents_allepisodes_list) #np.mean(x)\n",
    "plt.ylabel('scores')\n",
    "plt.xlabel('Episode #')\n",
    "plt.show()\n",
    "plt.savefig('learning_attempt_avescore_allagents.png')"
   ]
  },
  {
   "cell_type": "markdown",
   "metadata": {},
   "source": [
    "## 4-2. Evaluate a Trained Smart Agent"
   ]
  },
  {
   "cell_type": "code",
   "execution_count": 7,
   "metadata": {},
   "outputs": [
    {
     "name": "stdout",
     "output_type": "stream",
     "text": [
      "Score of trained agent playing a new game : [ 17.22999961  22.1799995   18.86999958  20.47999954  20.80999953\n",
      "   7.61999983  22.5699995   18.77999958  20.29999955  27.77999938\n",
      "  22.1499995   20.70999954  23.68999947  17.9299996   19.93999955\n",
      "  20.00999955  16.80999962  23.42999948  17.7199996   20.07999955]\n",
      "Mean19.954499553982167\n"
     ]
    }
   ],
   "source": [
    "agent = Agent(state_size=state_size, action_size=action_size, random_seed=2) #state_size 33, action_size 4\n",
    "args=Args()\n",
    "\n",
    "# load the weights from file\n",
    "agent.actor_local.load_state_dict(torch.load('best_checkpoint_actor.pth'))\n",
    "agent.critic_local.load_state_dict(torch.load('best_checkpoint_critic.pth'))\n",
    "\n",
    "\n",
    "env_info = env.reset(train_mode=False)[brain_name]     # reset the environment    \n",
    "states = env_info.vector_observations                  # get the current state (for each agent)\n",
    "scores = np.zeros(num_agents)                          # initialize the score (for each agent)\n",
    "while True:\n",
    "    actions = agent.act(states)                        # select an action (for each agent)\n",
    "    env_info = env.step(actions)[brain_name]           # send all actions to tne environment\n",
    "    next_states = env_info.vector_observations         # get next state (for each agent)\n",
    "    rewards = env_info.rewards                         # get reward (for each agent)\n",
    "    dones = env_info.local_done                        # see if episode finished\n",
    "    scores += env_info.rewards                         # update the score (for each agent)\n",
    "    states = next_states                               # roll over states to next time step\n",
    "    if np.any(dones):                                  # exit loop if episode finished\n",
    "        break\n",
    "  \n",
    "print(\"Score of trained agent playing a new game : {}\".format(scores))\n",
    "print(\"Mean {}\".format(np.mean(scores)))"
   ]
  },
  {
   "cell_type": "code",
   "execution_count": 8,
   "metadata": {},
   "outputs": [],
   "source": [
    "env.close()"
   ]
  }
 ],
 "metadata": {
  "kernelspec": {
   "display_name": "Python 3",
   "language": "python",
   "name": "python3"
  },
  "language_info": {
   "codemirror_mode": {
    "name": "ipython",
    "version": 3
   },
   "file_extension": ".py",
   "mimetype": "text/x-python",
   "name": "python",
   "nbconvert_exporter": "python",
   "pygments_lexer": "ipython3",
   "version": "3.6.3"
  }
 },
 "nbformat": 4,
 "nbformat_minor": 2
}
