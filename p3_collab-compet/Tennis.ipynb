{
 "cells": [
  {
   "cell_type": "markdown",
   "metadata": {},
   "source": [
    "# Collaboration and Competition\n",
    "\n",
    "---\n",
    "\n",
    "In this notebook, you will learn how to use the Unity ML-Agents environment for the third project of the [Deep Reinforcement Learning Nanodegree](https://www.udacity.com/course/deep-reinforcement-learning-nanodegree--nd893) program.\n",
    "\n",
    "### 1. Start the Environment\n",
    "\n",
    "We begin by importing the necessary packages.  If the code cell below returns an error, please revisit the project instructions to double-check that you have installed [Unity ML-Agents](https://github.com/Unity-Technologies/ml-agents/blob/master/docs/Installation.md) and [NumPy](http://www.numpy.org/)."
   ]
  },
  {
   "cell_type": "code",
   "execution_count": null,
   "metadata": {},
   "outputs": [],
   "source": [
    "%reset"
   ]
  },
  {
   "cell_type": "code",
   "execution_count": 1,
   "metadata": {},
   "outputs": [],
   "source": [
    "%reload_ext autoreload\n",
    "%autoreload 2"
   ]
  },
  {
   "cell_type": "markdown",
   "metadata": {},
   "source": [
    "Next, we will start the environment!  **_Before running the code cell below_**, change the `file_name` parameter to match the location of the Unity environment that you downloaded.\n",
    "\n",
    "- **Mac**: `\"path/to/Tennis.app\"`\n",
    "- **Windows** (x86): `\"path/to/Tennis_Windows_x86/Tennis.exe\"`\n",
    "- **Windows** (x86_64): `\"path/to/Tennis_Windows_x86_64/Tennis.exe\"`\n",
    "- **Linux** (x86): `\"path/to/Tennis_Linux/Tennis.x86\"`\n",
    "- **Linux** (x86_64): `\"path/to/Tennis_Linux/Tennis.x86_64\"`\n",
    "- **Linux** (x86, headless): `\"path/to/Tennis_Linux_NoVis/Tennis.x86\"`\n",
    "- **Linux** (x86_64, headless): `\"path/to/Tennis_Linux_NoVis/Tennis.x86_64\"`\n",
    "\n",
    "For instance, if you are using a Mac, then you downloaded `Tennis.app`.  If this file is in the same folder as the notebook, then the line below should appear as follows:\n",
    "```\n",
    "env = UnityEnvironment(file_name=\"Tennis.app\")\n",
    "```"
   ]
  },
  {
   "cell_type": "code",
   "execution_count": 1,
   "metadata": {},
   "outputs": [
    {
     "name": "stdout",
     "output_type": "stream",
     "text": [
      "\u001b[31mtensorflow 1.7.1 has requirement numpy>=1.13.3, but you'll have numpy 1.12.1 which is incompatible.\u001b[0m\r\n",
      "\u001b[31mipython 6.5.0 has requirement prompt-toolkit<2.0.0,>=1.0.15, but you'll have prompt-toolkit 2.0.9 which is incompatible.\u001b[0m\r\n"
     ]
    },
    {
     "name": "stderr",
     "output_type": "stream",
     "text": [
      "INFO:unityagents:\n",
      "'Academy' started successfully!\n",
      "Unity Academy name: Academy\n",
      "        Number of Brains: 1\n",
      "        Number of External Brains : 1\n",
      "        Lesson number : 0\n",
      "        Reset Parameters :\n",
      "\t\t\n",
      "Unity brain name: TennisBrain\n",
      "        Number of Visual Observations (per agent): 0\n",
      "        Vector Observation space type: continuous\n",
      "        Vector Observation space size (per agent): 8\n",
      "        Number of stacked Vector Observation: 3\n",
      "        Vector Action space type: continuous\n",
      "        Vector Action space size (per agent): 2\n",
      "        Vector Action descriptions: , \n"
     ]
    }
   ],
   "source": [
    "# # if run in Udacity WorkStation:\n",
    "\n",
    "# !pip -q install ./python\n",
    "\n",
    "# from unityagents import UnityEnvironment\n",
    "# import numpy as np\n",
    "\n",
    "# env = UnityEnvironment(file_name=\"/data/Tennis_Linux_NoVis/Tennis\")"
   ]
  },
  {
   "cell_type": "code",
   "execution_count": 2,
   "metadata": {},
   "outputs": [
    {
     "name": "stderr",
     "output_type": "stream",
     "text": [
      "INFO:unityagents:\n",
      "'Academy' started successfully!\n",
      "Unity Academy name: Academy\n",
      "        Number of Brains: 1\n",
      "        Number of External Brains : 1\n",
      "        Lesson number : 0\n",
      "        Reset Parameters :\n",
      "\t\t\n",
      "Unity brain name: TennisBrain\n",
      "        Number of Visual Observations (per agent): 0\n",
      "        Vector Observation space type: continuous\n",
      "        Vector Observation space size (per agent): 8\n",
      "        Number of stacked Vector Observation: 3\n",
      "        Vector Action space type: continuous\n",
      "        Vector Action space size (per agent): 2\n",
      "        Vector Action descriptions: , \n"
     ]
    }
   ],
   "source": [
    "# #if run in a local mac, drl python environment:\n",
    "\n",
    "from unityagents import UnityEnvironment\n",
    "import numpy as np\n",
    "env = UnityEnvironment(file_name=\"Tennis.app\", no_graphics=True)"
   ]
  },
  {
   "cell_type": "markdown",
   "metadata": {},
   "source": [
    "Environments contain **_brains_** which are responsible for deciding the actions of their associated agents. Here we check for the first brain available, and set it as the default brain we will be controlling from Python."
   ]
  },
  {
   "cell_type": "markdown",
   "metadata": {},
   "source": [
    "### 2. Examine the State and Action Spaces\n",
    "\n",
    "In this environment, two agents control rackets to bounce a ball over a net. If an agent hits the ball over the net, it receives a reward of +0.1.  If an agent lets a ball hit the ground or hits the ball out of bounds, it receives a reward of -0.01.  Thus, the goal of each agent is to keep the ball in play.\n",
    "\n",
    "The observation space consists of 8 variables corresponding to the position and velocity of the ball and racket. Two continuous actions are available, corresponding to movement toward (or away from) the net, and jumping. \n",
    "\n",
    "Run the code cell below to print some information about the environment."
   ]
  },
  {
   "cell_type": "code",
   "execution_count": 3,
   "metadata": {},
   "outputs": [
    {
     "name": "stdout",
     "output_type": "stream",
     "text": [
      "Number of agents: 2\n",
      "Size of each action: 2\n",
      "There are 2 agents. Each observes a state with length: 24\n",
      "The state for the first agent looks like: [ 0.          0.          0.          0.          0.          0.\n",
      "  0.          0.          0.          0.          0.          0.\n",
      "  0.          0.          0.          0.         -6.65278625 -1.5\n",
      " -0.          0.          6.83172083  6.         -0.          0.        ]\n"
     ]
    }
   ],
   "source": [
    "# get the default brain\n",
    "brain_name = env.brain_names[0]\n",
    "brain = env.brains[brain_name]\n",
    "\n",
    "# reset the environment\n",
    "env_info = env.reset(train_mode=True)[brain_name]\n",
    "\n",
    "# number of agents \n",
    "num_agents = len(env_info.agents)\n",
    "print('Number of agents:', num_agents)\n",
    "\n",
    "# size of each action\n",
    "action_size = brain.vector_action_space_size\n",
    "print('Size of each action:', action_size)\n",
    "\n",
    "# examine the state space \n",
    "states = env_info.vector_observations\n",
    "state_size = states.shape[1]\n",
    "print('There are {} agents. Each observes a state with length: {}'.format(states.shape[0], state_size))\n",
    "print('The state for the first agent looks like:', states[0])"
   ]
  },
  {
   "cell_type": "markdown",
   "metadata": {},
   "source": [
    "### 3. Take Random Actions in the Environment\n",
    "\n",
    "In the next code cell, you will learn how to use the Python API to control the agents and receive feedback from the environment.\n",
    "\n",
    "Once this cell is executed, you will watch the agents' performance, if they select actions at random with each time step.  A window should pop up that allows you to observe the agents.\n",
    "\n",
    "Of course, as part of the project, you'll have to change the code so that the agents are able to use their experiences to gradually choose better actions when interacting with the environment!"
   ]
  },
  {
   "cell_type": "code",
   "execution_count": 7,
   "metadata": {},
   "outputs": [
    {
     "name": "stdout",
     "output_type": "stream",
     "text": [
      "Score (max over agents) from episode 1: 0.0\n",
      "Score (max over agents) from episode 2: 0.0\n",
      "Score (max over agents) from episode 3: 0.0\n",
      "Score (max over agents) from episode 4: 0.0\n",
      "Score (max over agents) from episode 5: 0.0\n"
     ]
    }
   ],
   "source": [
    "# for i in range(1, 6):                                      # play game for 5 episodes\n",
    "#     env_info = env.reset(train_mode=False)[brain_name]     # reset the environment    \n",
    "#     states = env_info.vector_observations                  # get the current state (for each agent)\n",
    "#     scores = np.zeros(num_agents)                          # initialize the score (for each agent)\n",
    "#     while True:\n",
    "#         actions = np.random.randn(num_agents, action_size) # select an action (for each agent)\n",
    "#         actions = np.clip(actions, -1, 1)                  # all actions between -1 and 1\n",
    "#         env_info = env.step(actions)[brain_name]           # send all actions to tne environment\n",
    "#         next_states = env_info.vector_observations         # get next state (for each agent)\n",
    "#         rewards = env_info.rewards                         # get reward (for each agent)\n",
    "#         dones = env_info.local_done                        # see if episode finished\n",
    "#         scores += env_info.rewards                         # update the score (for each agent)\n",
    "#         states = next_states                               # roll over states to next time step\n",
    "#         if np.any(dones):                                  # exit loop if episode finished\n",
    "#             break\n",
    "#     print('Score (max over agents) from episode {}: {}'.format(i, np.max(scores)))"
   ]
  },
  {
   "cell_type": "markdown",
   "metadata": {},
   "source": [
    "### 4. Train agents with MADDPG"
   ]
  },
  {
   "cell_type": "code",
   "execution_count": 4,
   "metadata": {},
   "outputs": [
    {
     "name": "stdout",
     "output_type": "stream",
     "text": [
      "device= cpu\n"
     ]
    }
   ],
   "source": [
    "import os\n",
    "import torch\n",
    "import numpy as np\n",
    "import time\n",
    "from tensorboardX import SummaryWriter\n",
    "import tensorflow as tf\n",
    "from collections import deque\n",
    "import numpy as np\n",
    "import matplotlib.pyplot as plt\n",
    "%matplotlib inline\n",
    "\n",
    "from nnmodels_tennis import Actor, Critic\n",
    "from config_settings import Args\n",
    "from replay_buffer import ReplayBuffer\n",
    "from maddpg_agents import MADDPG\n"
   ]
  },
  {
   "cell_type": "code",
   "execution_count": 5,
   "metadata": {},
   "outputs": [
    {
     "name": "stdout",
     "output_type": "stream",
     "text": [
      "Episode:100   Score (avg over agents):0.006\n",
      "                                    |  TimeElapsed:  34 sec |\n",
      "Episode:200   Score (avg over agents):0.000\n",
      "                                    |  TimeElapsed: 109 sec |\n",
      "Episode:300   Score (avg over agents):0.000\n",
      "                                    |  TimeElapsed: 182 sec |\n",
      "Episode:400   Score (avg over agents):0.000\n",
      "                                    |  TimeElapsed: 254 sec |\n",
      "Episode:500   Score (avg over agents):0.000\n",
      "                                    |  TimeElapsed: 328 sec |\n",
      "Episode:600   Score (avg over agents):0.000\n",
      "                                    |  TimeElapsed: 406 sec |\n",
      "Episode:700   Score (avg over agents):0.002\n",
      "                                    |  TimeElapsed: 495 sec |\n",
      "Episode:800   Score (avg over agents):0.000\n",
      "                                    |  TimeElapsed: 574 sec |\n",
      "Episode:900   Score (avg over agents):0.000\n",
      "                                    |  TimeElapsed: 651 sec |\n",
      "Episode:1000   Score (avg over agents):0.000\n",
      "                                    |  TimeElapsed: 730 sec |\n"
     ]
    },
    {
     "data": {
      "image/png": "[encoded data removed]",
      "text/plain": [
       "<Figure size 432x288 with 1 Axes>"
      ]
     },
     "metadata": {
      "needs_background": "light"
     },
     "output_type": "display_data"
    }
   ],
   "source": [
    "agent = MADDPG()\n",
    "args=Args()\n",
    "max_t=args.max_steps\n",
    "\n",
    "class StdoutMessage():\n",
    "    def __init__(self):\n",
    "        self.score = None\n",
    "        self.avg_score = None\n",
    "        self.std_dev = None\n",
    "        self.scores = []                          \n",
    "        self.avg_scores = []                      \n",
    "        self.scores_window = deque(maxlen=100)    \n",
    "        self.best_avg_score = -9999               \n",
    "        self.time_start = time.time()             \n",
    "        self.total_steps = 0                      \n",
    "        self.writer = SummaryWriter()\n",
    "        if not(os.path.exists(os.getcwd()+os.sep+\"checkpoints\")): os.mkdir(\"./checkpoints\")\n",
    "\n",
    "    def update_score(self, steps, rewards, i_episode):\n",
    "        \"\"\"Update stdoutMessage every episode.\"\"\"\n",
    "        self.total_steps += steps\n",
    "        self.score = sum(rewards)\n",
    "        self.scores_window.append(self.score)\n",
    "        self.scores.append(self.score)\n",
    "        self.avg_score = np.mean(self.scores_window)\n",
    "        self.avg_scores.append(self.avg_score)\n",
    "        self.std_dev = np.std(self.scores_window)\n",
    "\n",
    "        if self.avg_score > self.best_avg_score and i_episode > 100 : #\n",
    "            self.best_avg_score = self.avg_score\n",
    "\n",
    "    def is_solved(self, i_episode, scoreGoal):\n",
    "        return self.avg_score >= scoreGoal and i_episode >= 100 #\n",
    "\n",
    "    def sendTotensorboard(self, i_episode, steps, stdoutMessage_format, buffer_len, noise_weight,\n",
    "                          critic_loss_01, \n",
    "                          critic_loss_02,\n",
    "                          actor_loss_01, \n",
    "                          actor_loss_02,\n",
    "                          rewards_01, \n",
    "                          rewards_02):\n",
    "        \n",
    "        common_stdoutMessage = 'Episode:{:3}   Score (avg over agents) :{:3.3f}'.format(i_episode, self.avg_score)\n",
    "        print('\\rEpisode:{:3}   Score (avg over agents):{:3.3f}'.format(i_episode, self.avg_score), end='') #+ stdoutMessage_format.format(buffer_len, noise_weight)\n",
    "\n",
    "        self.writer.add_scalar('agent1/critic_loss', critic_loss_01, i_episode)\n",
    "        self.writer.add_scalar('agent2/critic_loss', critic_loss_02, i_episode)\n",
    "        self.writer.add_scalar('agent1/actor_loss', actor_loss_01, i_episode)\n",
    "        self.writer.add_scalar('agent2/actor_loss', actor_loss_02, i_episode)\n",
    "        self.writer.add_scalar('agent1/reward', rewards_01, i_episode)\n",
    "        self.writer.add_scalar('agent2/reward', rewards_02, i_episode)\n",
    "\n",
    "    def stdout_everyNepisode(self, i_episode, stdoutMessage_format, *args):\n",
    "        timeelapse = int(time.time() - self.time_start)\n",
    "        print('\\n                                    |  TimeElapsed: {:3} sec |'.format(timeelapse))\n",
    "\n",
    "    def save_solvedModel(self, i_episode, stdoutMessage_format, best, *args):\n",
    "        n_secs = int(time.time() - self.time_start)\n",
    "        print('\\nSolved in {:d} episodes, TimeElapsed: {:3} sec !'.format(i_episode, n_secs))\n",
    "\n",
    "            \n",
    "def train_multiagents(env, agent, n_episodes=1000, max_t=1000, scoreGoal=0.5, best_margin=0.35):\n",
    "    stdoutMessage = StdoutMessage()\n",
    "    stdoutMessage_format = '  [stdoutMessage]  Buffer: {:4}   NoiseW: {:.3}'\n",
    "    isSolved = False\n",
    "\n",
    "    for i_episode in range(1, n_episodes+1):\n",
    "        rewards = []\n",
    "        env_info = env.reset(train_mode=True)[brain_name]  # reset the environment\n",
    "        state = env_info.vector_observations               # get the current state  \n",
    "        for t in range(max_t):\n",
    "            action = agent.act(state)  \n",
    "            env_info = env.step(action)[brain_name]       # Take action          \n",
    "            next_state = env_info.vector_observations     # get next state\n",
    "            reward = env_info.rewards                     # get reward\n",
    "            done = env_info.local_done          \n",
    "            agent.step(state, action, reward, next_state, done)\n",
    "            state = next_state\n",
    "            rewards.append(reward)       \n",
    "            if any(done): break\n",
    "\n",
    "        buffer_len = len(agent.memory)\n",
    "        eachAgentrewards_lst = []  \n",
    "        for i in range(agent.n_agents):\n",
    "            eachAgent_reward = 0\n",
    "            for step in rewards:\n",
    "                eachAgent_reward += step[i]\n",
    "            eachAgentrewards_lst.append(eachAgent_reward)\n",
    "            \n",
    "        stdoutMessage.update_score(t, [np.max(eachAgentrewards_lst)], i_episode)\n",
    "        stdoutMessage.sendTotensorboard(i_episode, t, stdoutMessage_format, buffer_len, \n",
    "                                        agent.noise_weight,\n",
    "                                        agent.agents[0].critic_loss, \n",
    "                                        agent.agents[1].critic_loss,\n",
    "                                        agent.agents[0].actor_loss, \n",
    "                                        agent.agents[1].actor_loss,\n",
    "                                        eachAgentrewards_lst[0], \n",
    "                                        eachAgentrewards_lst[1])\n",
    "\n",
    "        if i_episode % 100 == 0:\n",
    "            stdoutMessage.stdout_everyNepisode(i_episode, stdoutMessage_format, buffer_len, agent.noise_weight)\n",
    "\n",
    "        if stdoutMessage.is_solved(i_episode, scoreGoal):\n",
    "            isSolved = True\n",
    "            stdoutMessage.save_solvedModel(i_episode, stdoutMessage_format, best, buffer_len, agent.noise_weight)\n",
    "            save_name = 'checkpoints/p3_best.'\n",
    "            for i, save_agent in enumerate(agent.agents):\n",
    "                torch.save(save_agent.actor_local.state_dict(), save_name + str(i) + '.actor.pth')\n",
    "                torch.save(save_agent.critic_local.state_dict(), save_name + str(i) + '.critic.pth')\n",
    "                print(\"Solved actor pth filename=\", save_name + str(i) + '.actor.pth')\n",
    "                print(\"Solved critic pth filename=\", save_name + str(i) + '.critic.pth')\n",
    "            break\n",
    "                \n",
    "    return stdoutMessage\n",
    "                    \n",
    "stdoutMessage = train_multiagents(env, agent)\n",
    "\n",
    "#Plot Score\n",
    "fig = plt.figure()\n",
    "ax = fig.add_subplot(111)\n",
    "plt.plot(np.arange(1, len(stdoutMessage.scores)+1), stdoutMessage.scores )\n",
    "plt.plot(np.arange(1, len(stdoutMessage.avg_scores)+1), stdoutMessage.avg_scores)\n",
    "plt.ylabel('Score')\n",
    "plt.xlabel('Episode #')\n",
    "ax.set_title('Attempt #4')\n",
    "ax.legend(['Score','Moving average'])\n",
    "plt.show()"
   ]
  },
  {
   "cell_type": "markdown",
   "metadata": {},
   "source": [
    "### To visualize NN training process in TensorBoard: \n",
    "\n",
    "(drlnd) parksoy@~/Desktop/deep-reinforcement-learning/p3_collab-compet$tensorboard --logdir ./ --host=127.0.0.1\n",
    "TensorBoard 1.7.0 at http://127.0.0.1:6006 (Press CTRL+C to quit)\n"
   ]
  },
  {
   "cell_type": "markdown",
   "metadata": {},
   "source": [
    "### 5. Evaluate the Trained Smart Multi-Agents"
   ]
  },
  {
   "cell_type": "code",
   "execution_count": 77,
   "metadata": {},
   "outputs": [
    {
     "ename": "AttributeError",
     "evalue": "'MADDPG' object has no attribute 'actor_local'",
     "output_type": "error",
     "traceback": [
      "\u001b[0;31m---------------------------------------------------------------------------\u001b[0m",
      "\u001b[0;31mAttributeError\u001b[0m                            Traceback (most recent call last)",
      "\u001b[0;32m<ipython-input-77-49fa021b3131>\u001b[0m in \u001b[0;36m<module>\u001b[0;34m\u001b[0m\n\u001b[1;32m      3\u001b[0m \u001b[0;34m\u001b[0m\u001b[0m\n\u001b[1;32m      4\u001b[0m \u001b[0;31m# load the weights from file\u001b[0m\u001b[0;34m\u001b[0m\u001b[0;34m\u001b[0m\u001b[0;34m\u001b[0m\u001b[0m\n\u001b[0;32m----> 5\u001b[0;31m \u001b[0magent\u001b[0m\u001b[0;34m.\u001b[0m\u001b[0mactor_local\u001b[0m\u001b[0;34m.\u001b[0m\u001b[0mload_state_dict\u001b[0m\u001b[0;34m(\u001b[0m\u001b[0mtorch\u001b[0m\u001b[0;34m.\u001b[0m\u001b[0mload\u001b[0m\u001b[0;34m(\u001b[0m\u001b[0;34m'p3_3nnlayers_best_checkpoint_actor.pth'\u001b[0m\u001b[0;34m)\u001b[0m\u001b[0;34m)\u001b[0m\u001b[0;34m\u001b[0m\u001b[0;34m\u001b[0m\u001b[0m\n\u001b[0m\u001b[1;32m      6\u001b[0m \u001b[0magent\u001b[0m\u001b[0;34m.\u001b[0m\u001b[0mcritic_local\u001b[0m\u001b[0;34m.\u001b[0m\u001b[0mload_state_dict\u001b[0m\u001b[0;34m(\u001b[0m\u001b[0mtorch\u001b[0m\u001b[0;34m.\u001b[0m\u001b[0mload\u001b[0m\u001b[0;34m(\u001b[0m\u001b[0;34m'p3_3nnlayers_best_checkpoint_critic.pth'\u001b[0m\u001b[0;34m)\u001b[0m\u001b[0;34m)\u001b[0m\u001b[0;34m\u001b[0m\u001b[0;34m\u001b[0m\u001b[0m\n\u001b[1;32m      7\u001b[0m \u001b[0;34m\u001b[0m\u001b[0m\n",
      "\u001b[0;31mAttributeError\u001b[0m: 'MADDPG' object has no attribute 'actor_local'"
     ]
    }
   ],
   "source": [
    "agent = MADDPG(state_size, action_size, num_agents, 42) # state_size, action_size, n_agnets, random_seed\n",
    "args=Args()\n",
    "\n",
    "# load the weights from file\n",
    "agent.actor_local.load_state_dict(torch.load('p3_3nnlayers_best_checkpoint_actor.pth'))\n",
    "agent.critic_local.load_state_dict(torch.load('p3_3nnlayers_best_checkpoint_critic.pth'))\n",
    "\n",
    "\n",
    "env_info = env.reset(train_mode=False)[brain_name]     # reset the environment    \n",
    "states = env_info.vector_observations                  # get the current state (for each agent)\n",
    "scores = np.zeros(num_agents)                          # initialize the score (for each agent)\n",
    "while True:\n",
    "    actions = agent.act(states)                        # select an action (for each agent)\n",
    "    env_info = env.step(actions)[brain_name]           # send all actions to tne environment\n",
    "    next_states = env_info.vector_observations         # get next state (for each agent)\n",
    "    rewards = env_info.rewards                         # get reward (for each agent)\n",
    "    dones = env_info.local_done                        # see if episode finished\n",
    "    scores += env_info.rewards                         # update the score (for each agent)\n",
    "    states = next_states                               # roll over states to next time step\n",
    "    if np.any(dones):                                  # exit loop if episode finished\n",
    "        break\n",
    "  \n",
    "print(\"Score of trained agent playing a new game : {}\".format(scores))\n",
    "print(\"Mean {}\".format(np.mean(scores)))\n"
   ]
  },
  {
   "cell_type": "markdown",
   "metadata": {},
   "source": [
    "When finished, you can close the environment."
   ]
  },
  {
   "cell_type": "code",
   "execution_count": 6,
   "metadata": {},
   "outputs": [],
   "source": [
    "env.close()"
   ]
  }
 ],
 "metadata": {
  "kernelspec": {
   "display_name": "drlnd",
   "language": "python",
   "name": "drlnd"
  },
  "language_info": {
   "codemirror_mode": {
    "name": "ipython",
    "version": 3
   },
   "file_extension": ".py",
   "mimetype": "text/x-python",
   "name": "python",
   "nbconvert_exporter": "python",
   "pygments_lexer": "ipython3",
   "version": "3.6.8"
  }
 },
 "nbformat": 4,
 "nbformat_minor": 2
}
