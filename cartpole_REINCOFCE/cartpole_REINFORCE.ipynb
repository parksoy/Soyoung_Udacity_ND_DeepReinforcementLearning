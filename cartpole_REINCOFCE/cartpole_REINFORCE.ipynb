{
 "cells": [
  {
   "cell_type": "markdown",
   "metadata": {},
   "source": [
    "# Cartpole_REINFORCE\n",
    "\n",
    "---\n",
    "\n",
    "In this notebook, we will train REINFORCE with OpenAI Gym's Cartpole environment."
   ]
  },
  {
   "cell_type": "markdown",
   "metadata": {},
   "source": [
    "### 1. Import the Necessary Packages"
   ]
  },
  {
   "cell_type": "code",
   "execution_count": 13,
   "metadata": {},
   "outputs": [],
   "source": [
    "#!python -m pip install pyvirtualdisplay"
   ]
  },
  {
   "cell_type": "code",
   "execution_count": 8,
   "metadata": {},
   "outputs": [],
   "source": [
    "import gym\n",
    "gym.logger.set_level(40) # suppress warnings (please remove if gives error)\n",
    "import numpy as np\n",
    "from collections import deque\n",
    "import matplotlib.pyplot as plt\n",
    "%matplotlib inline\n",
    "\n",
    "import torch\n",
    "torch.manual_seed(0) # set random seed\n",
    "import torch.nn as nn\n",
    "import torch.nn.functional as F\n",
    "import torch.optim as optim\n",
    "from torch.distributions import Categorical\n",
    "\n",
    "\n",
    "from pyvirtualdisplay import Display\n",
    "display = Display(visible=0, size=(1400, 900))\n",
    "display.start()\n",
    "\n",
    "is_ipython = 'inline' in plt.get_backend()\n",
    "if is_ipython:\n",
    "    from IPython import display\n",
    "\n",
    "plt.ion()"
   ]
  },
  {
   "cell_type": "code",
   "execution_count": 24,
   "metadata": {},
   "outputs": [
    {
     "name": "stdout",
     "output_type": "stream",
     "text": [
      "/opt/conda/bin/python\r\n"
     ]
    }
   ],
   "source": [
    "!which python"
   ]
  },
  {
   "cell_type": "code",
   "execution_count": 25,
   "metadata": {},
   "outputs": [
    {
     "name": "stdout",
     "output_type": "stream",
     "text": [
      "Python 3.6.3\r\n"
     ]
    }
   ],
   "source": [
    "!/opt/conda/bin/python --version"
   ]
  },
  {
   "cell_type": "code",
   "execution_count": 23,
   "metadata": {},
   "outputs": [
    {
     "name": "stdout",
     "output_type": "stream",
     "text": [
      "altair==1.2.1\n",
      "asn1crypto==0.22.0\n",
      "atari-py==0.1.7\n",
      "attrs==19.1.0\n",
      "audioread==2.1.4\n",
      "av==0.3.3\n",
      "awscli==1.16.17\n",
      "backcall==0.1.0\n",
      "backports.functools-lru-cache==1.4\n",
      "backports.weakref==1.0rc1\n",
      "beautifulsoup4==4.6.0\n",
      "bleach==1.5.0\n",
      "blinker==1.4\n",
      "bokeh==0.12.13\n",
      "boto==2.48.0\n",
      "boto3==1.9.7\n",
      "botocore==1.12.7\n",
      "Box2D==2.3.2\n",
      "Box2D-kengz==2.3.3\n",
      "bresenham==0.2\n",
      "bz2file==0.98\n",
      "cassandra-driver==3.11.0\n",
      "certifi==2017.11.5\n",
      "cffi==1.11.2\n",
      "chardet==3.0.4\n",
      "click==6.7\n",
      "cloudpickle==0.2.2\n",
      "colorama==0.3.9\n",
      "colour==0.1.5\n",
      "conda==4.6.8\n",
      "cryptography==2.1.4\n",
      "cycler==0.10.0\n",
      "Cython==0.29.6\n",
      "dask==0.16.1\n",
      "decorator==4.0.11\n",
      "defusedxml==0.5.0\n",
      "dill==0.2.7.1\n",
      "docutils==0.14\n",
      "dronekit==2.9.1\n",
      "EasyProcess==0.2.5\n",
      "entrypoints==0.2.3\n",
      "et-xmlfile==1.0.1\n",
      "eventlet==0.22.0\n",
      "fastcache==1.0.2\n",
      "Flask==0.12.2\n",
      "Flask-SocketIO==2.9.2\n",
      "future==0.15.2\n",
      "gensim==3.4.0\n",
      "glfw==1.7.1\n",
      "greenlet==0.4.12\n",
      "gym==0.9.6\n",
      "h5py==2.7.1\n",
      "heapdict==1.0.0\n",
      "html2text==2018.1.9\n",
      "html5lib==0.9999999\n",
      "idna==2.6\n",
      "imageio==2.1.2\n",
      "ipykernel==4.9.0\n",
      "ipython==6.5.0\n",
      "ipython-genutils==0.2.0\n",
      "ipython-sql==0.3.9\n",
      "ipywidgets==7.0.5\n",
      "itsdangerous==0.24\n",
      "jdc==0.0.8\n",
      "jdcal==1.3\n",
      "jedi==0.10.2\n",
      "jieba==0.39\n",
      "Jinja2==2.10\n",
      "jmespath==0.9.3\n",
      "joblib==0.11\n",
      "jsonschema==2.6.0\n",
      "jupyter-client==5.2.4\n",
      "jupyter-core==4.4.0\n",
      "jupyterlab==0.35.4\n",
      "jupyterlab-server==0.2.0\n",
      "Keras==2.0.9\n",
      "librosa==0.5.1\n",
      "llvmlite==0.20.0\n",
      "locket==0.2.0\n",
      "lockfile==0.12.2\n",
      "lxml==4.1.1\n",
      "Mako==1.0.7\n",
      "Markdown==2.6.9\n",
      "MarkupSafe==1.0\n",
      "matplotlib==2.1.0\n",
      "mistune==0.8.3\n",
      "mock==2.0.0\n",
      "monotonic==1.2\n",
      "moviepy==0.2.3.2\n",
      "msgpack==0.5.6\n",
      "msgpack-python==0.4.8\n",
      "mujoco-py==1.50.1.59\n",
      "nbconvert==5.4.0\n",
      "nbformat==4.4.0\n",
      "networkx==1.11\n",
      "nltk==3.2.5\n",
      "notebook==5.7.0\n",
      "numba==0.35.0\n",
      "numexpr==2.6.4\n",
      "numpy==1.12.1\n",
      "oauthlib==2.0.6\n",
      "olefile==0.44\n",
      "openpyxl==2.5.0b1\n",
      "packaging==16.8\n",
      "pandas==0.23.3\n",
      "pandocfilters==1.4.1\n",
      "parso==0.3.4\n",
      "partd==0.3.8\n",
      "patsy==0.4.1\n",
      "pbr==3.1.1\n",
      "pexpect==4.3.1\n",
      "pickleshare==0.7.4\n",
      "Pillow==4.2.1\n",
      "pinyin==0.4.0\n",
      "plotly==2.0.15\n",
      "pomegranate==0.9.0\n",
      "prettytable==0.7.2\n",
      "prometheus-client==0.3.1\n",
      "prompt-toolkit==1.0.15\n",
      "protobuf==3.5.1\n",
      "psutil==5.4.0\n",
      "psycopg2==2.7.4\n",
      "ptyprocess==0.5.2\n",
      "py4j==0.10.7\n",
      "pyasn1==0.4.4\n",
      "pycosat==0.6.3\n",
      "pycparser==2.18\n",
      "pycurl==7.43.0\n",
      "pydot==1.2.4\n",
      "pydotplus==2.0.2\n",
      "pyglet==1.3.0\n",
      "Pygments==2.2.0\n",
      "pygpu==0.7.5\n",
      "PyJWT==1.5.3\n",
      "pymavlink==2.2.8\n",
      "pymc3==3.2\n",
      "PyOpenGL==3.1.0\n",
      "pyOpenSSL==17.4.0\n",
      "pyparsing==2.2.0\n",
      "pyrsistent==0.14.9\n",
      "PySocks==1.6.8\n",
      "pyspark==2.4.0\n",
      "python-crfsuite==0.9.2\n",
      "python-dateutil==2.6.1\n",
      "python-engineio==2.0.2\n",
      "python-socketio==1.8.4\n",
      "python-speech-features==0.6\n",
      "pytz==2017.3\n",
      "PyVirtualDisplay==0.2.1\n",
      "PyWavelets==0.5.2\n",
      "PyYAML==3.12\n",
      "pyzmq==17.1.2\n",
      "requests==2.18.4\n",
      "requests-oauthlib==0.8.0\n",
      "requests-toolbelt==0.9.1\n",
      "resampy==0.2.0\n",
      "rsa==3.4.2\n",
      "ruamel-yaml==0.11.14\n",
      "s3transfer==0.1.13\n",
      "scikit-image==0.13.1\n",
      "scikit-learn==0.19.1\n",
      "scipy==0.19.1\n",
      "seaborn==0.8.1\n",
      "SeekWell==0.1\n",
      "Send2Trash==1.5.0\n",
      "Shapely==1.6.4.post1\n",
      "simplegeneric==0.8.1\n",
      "SimpleWebSocketServer==0.1.1\n",
      "six==1.11.0\n",
      "smart-open==1.5.6\n",
      "snownlp==0.12.3\n",
      "SoundFile==0.9.0.post1\n",
      "SQLAlchemy==1.1.13\n",
      "sqlparse==0.3.0\n",
      "statsmodels==0.8.0\n",
      "sympy==1.0\n",
      "tensorflow==1.3.0\n",
      "tensorflow-tensorboard==0.1.5\n",
      "terminado==0.8.1\n",
      "testpath==0.3.1\n",
      "Theano==1.0.1\n",
      "toolz==0.8.2\n",
      "torch==0.4.0\n",
      "torchvision==0.2.1\n",
      "tornado==4.5.3\n",
      "tqdm==4.11.2\n",
      "traitlets==4.3.2\n",
      "tweepy==3.5.0\n",
      "twython==3.6.0\n",
      "udacity-pa==0.2.7\n",
      "urllib3==1.22\n",
      "utm==0.4.2\n",
      "uvloop==0.8.1\n",
      "vega==0.4.4\n",
      "vincent==0.4.4\n",
      "wcwidth==0.1.7\n",
      "webencodings==0.5\n",
      "websockets==4.0.1\n",
      "Werkzeug==0.14.1\n",
      "widgetsnbextension==3.1.0\n",
      "wordcloud==1.4.1\n",
      "wptools==0.4.7\n",
      "xlrd==1.1.0\n",
      "\u001b[33mYou are using pip version 9.0.1, however version 19.0.3 is available.\n",
      "You should consider upgrading via the 'pip install --upgrade pip' command.\u001b[0m\n"
     ]
    }
   ],
   "source": [
    "!pip freeze requirements.txt"
   ]
  },
  {
   "cell_type": "markdown",
   "metadata": {},
   "source": [
    "### 2. Define the Architecture of the Policy"
   ]
  },
  {
   "cell_type": "code",
   "execution_count": 9,
   "metadata": {},
   "outputs": [
    {
     "name": "stdout",
     "output_type": "stream",
     "text": [
      "observation space: Box(4,)\n",
      "action space: Discrete(2)\n"
     ]
    }
   ],
   "source": [
    "env = gym.make('CartPole-v0')\n",
    "env.seed(0)\n",
    "print('observation space:', env.observation_space)\n",
    "print('action space:', env.action_space)\n",
    "\n",
    "device = torch.device(\"cuda:0\" if torch.cuda.is_available() else \"cpu\")\n",
    "\n",
    "class Policy(nn.Module):\n",
    "    def __init__(self, s_size=4, h_size=16, a_size=2):\n",
    "        super(Policy, self).__init__()\n",
    "        self.fc1 = nn.Linear(s_size, h_size)\n",
    "        self.fc2 = nn.Linear(h_size, a_size)\n",
    "\n",
    "    def forward(self, x):\n",
    "        x = F.relu(self.fc1(x))\n",
    "        x = self.fc2(x)\n",
    "        return F.softmax(x, dim=1)\n",
    "    \n",
    "    def act(self, state):\n",
    "        state = torch.from_numpy(state).float().unsqueeze(0).to(device)\n",
    "        probs = self.forward(state).cpu()\n",
    "        m = Categorical(probs)\n",
    "        action = m.sample()\n",
    "        return action.item(), m.log_prob(action)"
   ]
  },
  {
   "cell_type": "markdown",
   "metadata": {},
   "source": [
    "### 3. Train the Agent with REINFORCE"
   ]
  },
  {
   "cell_type": "code",
   "execution_count": 10,
   "metadata": {},
   "outputs": [
    {
     "name": "stdout",
     "output_type": "stream",
     "text": [
      "Episode 100\tAverage Score: 34.47\n",
      "Episode 200\tAverage Score: 66.26\n",
      "Episode 300\tAverage Score: 87.82\n",
      "Episode 400\tAverage Score: 72.83\n",
      "Episode 500\tAverage Score: 172.00\n",
      "Episode 600\tAverage Score: 160.65\n",
      "Episode 700\tAverage Score: 167.15\n",
      "Environment solved in 691 episodes!\tAverage Score: 196.69\n"
     ]
    }
   ],
   "source": [
    "policy = Policy().to(device)\n",
    "optimizer = optim.Adam(policy.parameters(), lr=1e-2)\n",
    "\n",
    "def reinforce(n_episodes=1000, max_t=1000, gamma=1.0, print_every=100):\n",
    "    scores_deque = deque(maxlen=100)\n",
    "    scores = []\n",
    "    for i_episode in range(1, n_episodes+1):\n",
    "        saved_log_probs = []\n",
    "        rewards = []\n",
    "        state = env.reset()\n",
    "        for t in range(max_t):\n",
    "            action, log_prob = policy.act(state)\n",
    "            saved_log_probs.append(log_prob)\n",
    "            state, reward, done, _ = env.step(action)\n",
    "            rewards.append(reward)\n",
    "            if done:\n",
    "                break \n",
    "        scores_deque.append(sum(rewards))\n",
    "        scores.append(sum(rewards))\n",
    "        \n",
    "        discounts = [gamma**i for i in range(len(rewards)+1)]\n",
    "        R = sum([a*b for a,b in zip(discounts, rewards)])\n",
    "        \n",
    "        policy_loss = []\n",
    "        for log_prob in saved_log_probs:\n",
    "            policy_loss.append(-log_prob * R)\n",
    "        policy_loss = torch.cat(policy_loss).sum()\n",
    "        \n",
    "        optimizer.zero_grad()\n",
    "        policy_loss.backward()\n",
    "        optimizer.step()\n",
    "        \n",
    "        if i_episode % print_every == 0:\n",
    "            print('Episode {}\\tAverage Score: {:.2f}'.format(i_episode, np.mean(scores_deque)))\n",
    "        if np.mean(scores_deque)>=195.0:\n",
    "            print('Environment solved in {:d} episodes!\\tAverage Score: {:.2f}'.format(i_episode-100, np.mean(scores_deque)))\n",
    "            break\n",
    "        \n",
    "    return scores\n",
    "    \n",
    "scores = reinforce()"
   ]
  },
  {
   "cell_type": "markdown",
   "metadata": {},
   "source": [
    "### 4. Plot the Scores"
   ]
  },
  {
   "cell_type": "code",
   "execution_count": 11,
   "metadata": {},
   "outputs": [
    {
     "data": {
      "image/png": "[encoded data removed]",
      "text/plain": [
       "<Figure size 432x288 with 1 Axes>"
      ]
     },
     "metadata": {
      "needs_background": "light"
     },
     "output_type": "display_data"
    }
   ],
   "source": [
    "fig = plt.figure()\n",
    "ax = fig.add_subplot(111)\n",
    "plt.plot(np.arange(1, len(scores)+1), scores)\n",
    "plt.ylabel('Score')\n",
    "plt.xlabel('Episode #')\n",
    "plt.show()"
   ]
  },
  {
   "cell_type": "markdown",
   "metadata": {},
   "source": [
    "### 5. Watch a Smart Agent!"
   ]
  },
  {
   "cell_type": "code",
   "execution_count": 12,
   "metadata": {},
   "outputs": [
    {
     "data": {
      "image/png": "[encoded data removed]",
      "text/plain": [
       "<Figure size 432x288 with 1 Axes>"
      ]
     },
     "metadata": {
      "needs_background": "light"
     },
     "output_type": "display_data"
    }
   ],
   "source": [
    "env = gym.make('CartPole-v0')\n",
    "\n",
    "state = env.reset()\n",
    "img = plt.imshow(env.render(mode='rgb_array'))\n",
    "for t in range(1000):\n",
    "    action, _ = policy.act(state)\n",
    "    img.set_data(env.render(mode='rgb_array')) \n",
    "    plt.axis('off')\n",
    "    display.display(plt.gcf())\n",
    "    display.clear_output(wait=True)\n",
    "    state, reward, done, _ = env.step(action)\n",
    "    if done:\n",
    "        break \n",
    "\n",
    "env.close()"
   ]
  },
  {
   "cell_type": "code",
   "execution_count": null,
   "metadata": {},
   "outputs": [],
   "source": []
  }
 ],
 "metadata": {
  "anaconda-cloud": {},
  "kernelspec": {
   "display_name": "drlnd",
   "language": "python",
   "name": "drlnd"
  },
  "language_info": {
   "codemirror_mode": {
    "name": "ipython",
    "version": 3
   },
   "file_extension": ".py",
   "mimetype": "text/x-python",
   "name": "python",
   "nbconvert_exporter": "python",
   "pygments_lexer": "ipython3",
   "version": "3.6.8"
  }
 },
 "nbformat": 4,
 "nbformat_minor": 2
}
